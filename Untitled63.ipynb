{
  "nbformat": 4,
  "nbformat_minor": 0,
  "metadata": {
    "colab": {
      "provenance": [],
      "authorship_tag": "ABX9TyP+ypDGzHB74Dm50TWsBLYm",
      "include_colab_link": true
    },
    "kernelspec": {
      "name": "python3",
      "display_name": "Python 3"
    },
    "language_info": {
      "name": "python"
    }
  },
  "cells": [
    {
      "cell_type": "markdown",
      "metadata": {
        "id": "view-in-github",
        "colab_type": "text"
      },
      "source": [
        "<a href=\"https://colab.research.google.com/github/JoyceGubbi/student/blob/main/Untitled63.ipynb\" target=\"_parent\"><img src=\"https://colab.research.google.com/assets/colab-badge.svg\" alt=\"Open In Colab\"/></a>"
      ]
    },
    {
      "cell_type": "code",
      "source": [
        "#averaging\n",
        "import pandas as pd\n",
        "df=pd.read_csv('/content/train.csv')\n",
        "print(df.head())\n",
        "df=df.drop(['Name','Sex','Ticket','Cabin','Embarked'],axis=1)\n",
        "df=df.dropna()\n",
        "print(df.head())\n",
        "target=df['Pclass']\n",
        "train=df.drop('Pclass',axis=1)\n",
        "from sklearn.model_selection import train_test_split\n",
        "x_train,x_test,y_train,y_test=train_test_split(train,target,test_size=0.20)\n",
        "from sklearn.linear_model import LinearRegression\n",
        "from xgboost import XGBRegressor\n",
        "from sklearn.ensemble import RandomForestRegressor\n",
        "model_1 = LinearRegression()\n",
        "model_2 = XGBRegressor()\n",
        "model_3 = RandomForestRegressor()\n",
        "model_1.fit(x_train,y_train)\n",
        "model_2.fit(x_train,y_train)\n",
        "model_3.fit(x_train,y_train)\n",
        "pred_1=model_1.predict(x_test)\n",
        "pred_2=model_2.predict(x_test)\n",
        "pred_3=model_3.predict(x_test)\n",
        "pred_final=(pred_1+pred_2+pred_3)/3.0\n",
        "from sklearn.metrics import mean_squared_error\n",
        "print(mean_squared_error(y_test,pred_final))\n",
        "\n",
        "\n",
        "\n"
      ],
      "metadata": {
        "colab": {
          "base_uri": "https://localhost:8080/"
        },
        "outputId": "6977b4aa-dfd2-4bc3-f080-5e85ffdf3dec",
        "id": "anWorHXINoG9"
      },
      "execution_count": 1,
      "outputs": [
        {
          "output_type": "stream",
          "name": "stdout",
          "text": [
            "   PassengerId  Survived  Pclass  \\\n",
            "0            1         0       3   \n",
            "1            2         1       1   \n",
            "2            3         1       3   \n",
            "3            4         1       1   \n",
            "4            5         0       3   \n",
            "\n",
            "                                                Name     Sex   Age  SibSp  \\\n",
            "0                            Braund, Mr. Owen Harris    male  22.0      1   \n",
            "1  Cumings, Mrs. John Bradley (Florence Briggs Th...  female  38.0      1   \n",
            "2                             Heikkinen, Miss. Laina  female  26.0      0   \n",
            "3       Futrelle, Mrs. Jacques Heath (Lily May Peel)  female  35.0      1   \n",
            "4                           Allen, Mr. William Henry    male  35.0      0   \n",
            "\n",
            "   Parch            Ticket     Fare Cabin Embarked  \n",
            "0      0         A/5 21171   7.2500   NaN        S  \n",
            "1      0          PC 17599  71.2833   C85        C  \n",
            "2      0  STON/O2. 3101282   7.9250   NaN        S  \n",
            "3      0            113803  53.1000  C123        S  \n",
            "4      0            373450   8.0500   NaN        S  \n",
            "   PassengerId  Survived  Pclass   Age  SibSp  Parch     Fare\n",
            "0            1         0       3  22.0      1      0   7.2500\n",
            "1            2         1       1  38.0      1      0  71.2833\n",
            "2            3         1       3  26.0      0      0   7.9250\n",
            "3            4         1       1  35.0      1      0  53.1000\n",
            "4            5         0       3  35.0      0      0   8.0500\n",
            "0.07726074782768953\n"
          ]
        }
      ]
    },
    {
      "cell_type": "code",
      "source": [
        "import pandas as pd\n",
        "from sklearn.model_selection import train_test_split\n",
        "from sklearn.linear_model import LinearRegression\n",
        "from xgboost import XGBRegressor\n",
        "from sklearn.ensemble import RandomForestRegressor\n",
        "x_train,x_test,y_train,y_test=train_test_split(train,target,test_size=0.20)\n",
        "df=pd.read_csv('/content/train.csv')\n",
        "print(df.head())\n",
        "df=df.drop(['Name','Sex','Ticket','Cabin','Embarked'],axis=1)\n",
        "df=df.dropna()\n",
        "print(df.head())\n",
        "target=df['Pclass']\n",
        "train=df.drop('Pclass',axis=1)\n",
        "model_1 = LinearRegression()\n",
        "model_2 = XGBRegressor()\n",
        "model_3 = RandomForestRegressor()\n",
        "model_1.fit(x_train,y_train)\n",
        "model_2.fit(x_train,y_train)\n",
        "model_3.fit(x_train,y_train)\n",
        "pred_1=model_1.predict(x_test)\n",
        "pred_2=model_2.predict(x_test)\n",
        "pred_3=model_3.predict(x_test)\n",
        "pred_final=(pred_1+pred_2+pred_3)/3.0\n",
        "from sklearn.metrics import mean_squared_error\n",
        "print(mean_squared_error(y_test,pred_final))"
      ],
      "metadata": {
        "colab": {
          "base_uri": "https://localhost:8080/"
        },
        "id": "rkE5SuP4tdZK",
        "outputId": "e048b17f-c94b-4ec1-8040-29ac3ec24541"
      },
      "execution_count": 4,
      "outputs": [
        {
          "output_type": "stream",
          "name": "stdout",
          "text": [
            "   PassengerId  Survived  Pclass  \\\n",
            "0            1         0       3   \n",
            "1            2         1       1   \n",
            "2            3         1       3   \n",
            "3            4         1       1   \n",
            "4            5         0       3   \n",
            "\n",
            "                                                Name     Sex   Age  SibSp  \\\n",
            "0                            Braund, Mr. Owen Harris    male  22.0      1   \n",
            "1  Cumings, Mrs. John Bradley (Florence Briggs Th...  female  38.0      1   \n",
            "2                             Heikkinen, Miss. Laina  female  26.0      0   \n",
            "3       Futrelle, Mrs. Jacques Heath (Lily May Peel)  female  35.0      1   \n",
            "4                           Allen, Mr. William Henry    male  35.0      0   \n",
            "\n",
            "   Parch            Ticket     Fare Cabin Embarked  \n",
            "0      0         A/5 21171   7.2500   NaN        S  \n",
            "1      0          PC 17599  71.2833   C85        C  \n",
            "2      0  STON/O2. 3101282   7.9250   NaN        S  \n",
            "3      0            113803  53.1000  C123        S  \n",
            "4      0            373450   8.0500   NaN        S  \n",
            "   PassengerId  Survived  Pclass   Age  SibSp  Parch     Fare\n",
            "0            1         0       3  22.0      1      0   7.2500\n",
            "1            2         1       1  38.0      1      0  71.2833\n",
            "2            3         1       3  26.0      0      0   7.9250\n",
            "3            4         1       1  35.0      1      0  53.1000\n",
            "4            5         0       3  35.0      0      0   8.0500\n",
            "0.08469949152577023\n"
          ]
        }
      ]
    }
  ]
}